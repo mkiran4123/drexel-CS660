{
 "cells": [
  {
   "cell_type": "code",
   "execution_count": 50,
   "metadata": {
    "pycharm": {
     "is_executing": false,
     "name": "#%%\n"
    }
   },
   "outputs": [],
   "source": [
    "import numpy as np\n",
    "\n",
    "# https://glowingpython.blogspot.com/2011/05/four-ways-to-compute-google-pagerank.html\n",
    "def get_eigenvector(A):\n",
    "    n = A.shape[1]\n",
    "    _, v = np.linalg.eig(A)\n",
    "    \n",
    "    return np.abs(np.real(v[:n, 0]) / np.linalg.norm(v[:n, 0], 1))\n",
    "\n",
    "def print_page_scores(vector):\n",
    "    i = 1\n",
    "    for page in vector:\n",
    "        print(\"Page {} has score {:.3f}\".format(i, page))\n",
    "        i+= 1"
   ]
  },
  {
   "cell_type": "markdown",
   "metadata": {
    "collapsed": true,
    "pycharm": {
     "name": "#%% md\n"
    }
   },
   "source": [
    "# Exercises\n",
    "\n",
    "## Exercise 1"
   ]
  },
  {
   "cell_type": "code",
   "execution_count": 51,
   "metadata": {
    "pycharm": {
     "is_executing": false,
     "name": "#%%\n"
    }
   },
   "outputs": [
    {
     "name": "stdout",
     "text": [
      "Page 1 has score 0.245\nPage 2 has score 0.082\nPage 3 has score 0.367\nPage 4 has score 0.122\nPage 5 has score 0.184\n"
     ],
     "output_type": "stream"
    }
   ],
   "source": [
    "A = np.array([\n",
    "    [0,   0,   1/2, 1/2, 0],\n",
    "    [1/3, 0,   0,   0,   0],\n",
    "    [1/3, 1/2, 0,   1/2, 1],\n",
    "    [1/3, 1/2, 0,   0,   0],\n",
    "    [0,   0,   1/2, 0,   0]\n",
    "])\n",
    "\n",
    "vector = get_eigenvector(A)\n",
    "print_page_scores(vector)"
   ]
  },
  {
   "cell_type": "markdown",
   "metadata": {
    "pycharm": {
     "name": "#%% md\n"
    }
   },
   "source": [
    "It would appear that page 3's score has increased above that of page 1.\n",
    "If a page 5 is added, the following two items will happen:\n",
    "    1. The \"vote\" of page 3 will now split between page 1 and page 5, therefore reducing page 1's score\n",
    "    2. The \"vote\" of page 5 will boost the score of page 3."
   ]
  },
  {
   "cell_type": "markdown",
   "metadata": {
    "pycharm": {
     "name": "#%% md\n"
    }
   },
   "source": [
    "## Exercise 2"
   ]
  },
  {
   "cell_type": "code",
   "execution_count": 52,
   "metadata": {
    "pycharm": {
     "is_executing": false,
     "name": "#%%\n"
    }
   },
   "outputs": [
    {
     "name": "stdout",
     "text": [
      "[ 1. -1.  1. -1.  1. -1.  0.] 3\n"
     ],
     "output_type": "stream"
    }
   ],
   "source": [
    "A = np.array([\n",
    "    [0, 1, 0, 0, 0, 0, 0],\n",
    "    [1, 0, 0, 0, 0, 0, 0],\n",
    "    [0, 0, 0, 1, 0, 0, 0],\n",
    "    [0, 0, 1, 0, 0, 0, 0],\n",
    "    [0, 0, 0, 0, 0, 1, 1/2],\n",
    "    [0, 0, 0, 0, 1, 0, 1/2],\n",
    "    [0, 0, 0, 0, 0, 0, 0]\n",
    "])\n",
    "\n",
    "eigenvalues, _ = np.linalg.eig(A)\n",
    "\n",
    "print(eigenvalues, len(np.where(eigenvalues == 1)[0]))"
   ]
  },
  {
   "cell_type": "markdown",
   "metadata": {
    "pycharm": {
     "name": "#%% md\n"
    }
   },
   "source": [
    "The example web has 3 separate subwebs, similar to figure 2.2. \n",
    "As you can see, there are three eigenvalues equal to 1. This demonstrates \n",
    "that the dimension of V_1(A) equals (or exceeds) the number of components in the web."
   ]
  },
  {
   "cell_type": "markdown",
   "metadata": {
    "pycharm": {
     "name": "#%% md\n"
    }
   },
   "source": [
    "## Exercise 3"
   ]
  },
  {
   "cell_type": "code",
   "execution_count": 53,
   "metadata": {
    "pycharm": {
     "is_executing": false,
     "name": "#%%\n"
    }
   },
   "outputs": [
    {
     "name": "stdout",
     "text": [
      "[ 1. -1.  1. -1.  0.] 2\n"
     ],
     "output_type": "stream"
    }
   ],
   "source": [
    "A = np.array([\n",
    "    [0, 1, 0, 0, 1/3],\n",
    "    [1, 0, 0, 0, 0],\n",
    "    [0, 0, 0, 1, 1/3],\n",
    "    [0, 0, 1, 0, 1/3],\n",
    "    [0, 0, 0, 0, 0],\n",
    "])\n",
    "\n",
    "eigenvalues, _ = np.linalg.eig(A)\n",
    "\n",
    "print(eigenvalues, len(np.where(eigenvalues == 1)[0]))"
   ]
  },
  {
   "cell_type": "markdown",
   "metadata": {
    "pycharm": {
     "name": "#%% md\n"
    }
   },
   "source": [
    "## Exercise 4"
   ]
  },
  {
   "cell_type": "markdown",
   "metadata": {
    "pycharm": {
     "name": "#%% md\n"
    }
   },
   "source": [
    "## Exercise 5 - INCOMPLETE\n",
    "Prove that in any web the importance score of a page with no backlinks is zero.\n",
    "\n",
    "This may need some code examples, however, the proof is seemingly self-evident.\n",
    "A page's importance score is the sum of each backlink times the score of the page divided by the number of links that page has.\n",
    "Therefore, if a page has 0 backlinks, it will have a score of zero."
   ]
  },
  {
   "cell_type": "markdown",
   "metadata": {
    "pycharm": {
     "name": "#%% md\n"
    }
   },
   "source": [
    "## Exercise 6"
   ]
  },
  {
   "cell_type": "markdown",
   "metadata": {
    "pycharm": {
     "name": "#%% md\n"
    }
   },
   "source": [
    "## Exercise 7 - INCOMPLETE\n",
    "Show that the product of two column-stochastic matrices is also column-stochastic.\n",
    "\n",
    "Recall, a square matrix is called column-stochastic matrix if all of its entries are nonnegative and the entries in each column sum to one.\n",
    "\n",
    "Consider a the following matrices, A and B, which are both column-stochastic. Let the matrices be of size n x n where n is some nonnegative integer.\n",
    "\n",
    "Let us refer to elements A[i][j] as the i'th row and j'th column.\n",
    "\n",
    "Therefore, the element of AB[i][j] = sum(A[i][k] * B[k][j] for k in range(1,n))\n",
    "\n",
    "Now, to determine the sum of a particular column, c, of AB is sum(AB[i][c] for i in range(1,n))"
   ]
  },
  {
   "cell_type": "markdown",
   "metadata": {
    "pycharm": {
     "name": "#%% md\n"
    }
   },
   "source": [
    "## Exercise 8"
   ]
  },
  {
   "cell_type": "markdown",
   "metadata": {
    "pycharm": {
     "name": "#%% md\n"
    }
   },
   "source": [
    "## Exercise 9\n",
    "A page with no backlinks will have a score of m/n because the array S would give it an score of 1/n (as the array must be column stochastic and equally weighted for all pages) and then by exercise 5, the page would have a score of 0 from the array A.\n",
    "\n",
    "Therefore, the score of a particular page would be the score given by\n",
    "    (1-m)A + mS = (1-m)*0 + m (1/n) = m/n\n",
    "\n",
    "Note how A resolves to 0 because the page has no backlinks."
   ]
  },
  {
   "cell_type": "markdown",
   "metadata": {
    "pycharm": {
     "name": "#%% md\n"
    }
   },
   "source": [
    "## Exercise 10"
   ]
  },
  {
   "cell_type": "markdown",
   "metadata": {
    "pycharm": {
     "name": "#%% md\n"
    }
   },
   "source": [
    "## Exercise 11 - INCOMPLETE"
   ]
  },
  {
   "cell_type": "code",
   "execution_count": 54,
   "metadata": {
    "pycharm": {
     "is_executing": false
    }
   },
   "outputs": [
    {
     "name": "stdout",
     "text": [
      "Page 1 has score 0.243\nPage 2 has score 0.085\nPage 3 has score 0.363\nPage 4 has score 0.126\nPage 5 has score 0.182\n"
     ],
     "output_type": "stream"
    }
   ],
   "source": [
    "# Something feels missing here. I don't believe A is correct in the context of this formula 3.2\n",
    "A = np.array([\n",
    "    [0,   0,   1/2, 1/2, 0],\n",
    "    [1/3, 0,   0,   0,   0],\n",
    "    [1/3, 1/2, 0,   1/2, 1],\n",
    "    [1/3, 1/2, 0,   0,   0],\n",
    "    [0,   0,   1/2, 0,   0]\n",
    "])\n",
    "\n",
    "# Let S denote an n x n matrix with all entries 1/n\n",
    "S = np.ones((5,5)) / (5*5)\n",
    "\n",
    "# Calculate the new ranking by finding the eigenvector of M\n",
    "# use m = 0.15\n",
    "m = 0.15\n",
    "M = (1-m)*A + m * S\n",
    "\n",
    "vector = get_eigenvector(M)\n",
    "print_page_scores(vector)"
   ]
  },
  {
   "cell_type": "markdown",
   "metadata": {
    "pycharm": {
     "name": "#%% md\n"
    }
   },
   "source": [
    "## Exercise 12"
   ]
  },
  {
   "cell_type": "code",
   "execution_count": 55,
   "metadata": {
    "pycharm": {
     "name": "#%%\n",
     "is_executing": false
    }
   },
   "outputs": [
    {
     "name": "stdout",
     "text": [
      "Page 1 has score 0.242\nPage 2 has score 0.084\nPage 3 has score 0.362\nPage 4 has score 0.125\nPage 5 has score 0.182\nPage 6 has score 0.005\n"
     ],
     "output_type": "stream"
    }
   ],
   "source": [
    "A = np.array([\n",
    "    [0,   0,   1/2, 1/2, 0, 1/6],\n",
    "    [1/3, 0,   0,   0,   0, 1/6],\n",
    "    [1/3, 1/2, 0,   1/2, 1, 1/6],\n",
    "    [1/3, 1/2, 0,   0,   0, 1/6],\n",
    "    [0,   0,   1/2, 0,   0, 1/6],\n",
    "    [0,   0,   0,   0,   0, 0  ]\n",
    "])\n",
    "\n",
    "# Let S denote an n x n matrix with all entries 1/n\n",
    "S = np.ones((6,6)) / (6*6)\n",
    "\n",
    "# Calculate the new ranking by finding the eigenvector of M\n",
    "# use m = 0.15\n",
    "m = 0.15\n",
    "M = (1-m)*A + m * S\n",
    "\n",
    "vector = get_eigenvector(M)\n",
    "print_page_scores(vector)"
   ]
  },
  {
   "cell_type": "markdown",
   "metadata": {
    "pycharm": {
     "name": "#%% md\n"
    }
   },
   "source": [
    "## Exercise 13"
   ]
  },
  {
   "cell_type": "markdown",
   "metadata": {
    "pycharm": {
     "name": "#%% md\n"
    }
   },
   "source": [
    "## Exercise 14"
   ]
  },
  {
   "cell_type": "markdown",
   "metadata": {
    "pycharm": {
     "name": "#%% md\n"
    }
   },
   "source": [
    "## Exercise 15"
   ]
  },
  {
   "cell_type": "markdown",
   "metadata": {
    "pycharm": {
     "name": "#%% md\n"
    }
   },
   "source": [
    "## Exercise 16"
   ]
  },
  {
   "cell_type": "markdown",
   "metadata": {
    "pycharm": {
     "name": "#%% md\n"
    }
   },
   "source": [
    "## Exercise 17 - INCOMPLETE\n",
    "The value of m correlates to an egalitarian ranking of all the web pages and can range from 0 to 1 where 0 is the original formula while 1 is the pure egalitarian approach (where all web pages will have the same score).\n",
    "\n",
    "INCOMPLETE: (How does this affect computation time)"
   ]
  }
 ],
 "metadata": {
  "kernelspec": {
   "display_name": "Python 3",
   "language": "python",
   "name": "python3"
  },
  "language_info": {
   "codemirror_mode": {
    "name": "ipython",
    "version": 3
   },
   "file_extension": ".py",
   "mimetype": "text/x-python",
   "name": "python",
   "nbconvert_exporter": "python",
   "pygments_lexer": "ipython3",
   "version": "3.6.2"
  },
  "pycharm": {
   "stem_cell": {
    "cell_type": "raw",
    "source": [],
    "metadata": {
     "collapsed": false
    }
   }
  }
 },
 "nbformat": 4,
 "nbformat_minor": 1
}