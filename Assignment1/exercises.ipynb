{
 "cells": [
  {
   "cell_type": "code",
   "execution_count": 1,
   "metadata": {
    "pycharm": {
     "is_executing": false,
     "name": "#%%\n"
    }
   },
   "outputs": [],
   "source": [
    "import numpy as np\n",
    "\n",
    "# https://glowingpython.blogspot.com/2011/05/four-ways-to-compute-google-pagerank.html\n",
    "def get_dimensions(A):\n",
    "    # Returns the dimensions of a square matrix\n",
    "    return A.shape[1]\n",
    "\n",
    "def get_eigenvector(A):\n",
    "    n = get_dimensions(A)\n",
    "    _, v = np.linalg.eig(A)\n",
    "    \n",
    "    return np.abs(np.real(v[:n, 0]) / np.linalg.norm(v[:n, 0], 1))\n",
    "\n",
    "def get_eigenvalues(A):\n",
    "    # Returns the eigen values\n",
    "    eigenvalues, _ = np.linalg.eig(A)\n",
    "    return eigenvalues\n",
    "\n",
    "def create_M(A, m):\n",
    "    # Returns (1-m)A + mS\n",
    "    # This is the weighted matrix where m is user defined\n",
    "    # Google set m = 0.15\n",
    "    n = get_dimensions(A)\n",
    "    S = np.ones((n,n)) / n\n",
    "    return (1 - m) * A + m * S\n",
    "\n",
    "def print_page_scores(vector):\n",
    "    i = 1\n",
    "    for page in vector:\n",
    "        print(\"Page {} has score {:.3f}\".format(i, page))\n",
    "        i+= 1\n",
    "        \n",
    "def print_matrix(matrix):\n",
    "    for row in matrix:\n",
    "        for value in row:\n",
    "            print(\"{:.3f}\".format(value), end=\"\\t\")\n",
    "        print(\"\")"
   ]
  },
  {
   "cell_type": "markdown",
   "metadata": {
    "collapsed": true,
    "pycharm": {
     "name": "#%% md\n"
    }
   },
   "source": [
    "# Exercises\n",
    "\n",
    "## Exercise 1"
   ]
  },
  {
   "cell_type": "code",
   "execution_count": 2,
   "metadata": {
    "pycharm": {
     "is_executing": false,
     "name": "#%%\n"
    }
   },
   "outputs": [
    {
     "name": "stdout",
     "output_type": "stream",
     "text": [
      "Page 1 has score 0.245\n",
      "Page 2 has score 0.082\n",
      "Page 3 has score 0.367\n",
      "Page 4 has score 0.122\n",
      "Page 5 has score 0.184\n"
     ]
    }
   ],
   "source": [
    "A = np.array([\n",
    "    [0,   0,   1/2, 1/2, 0],\n",
    "    [1/3, 0,   0,   0,   0],\n",
    "    [1/3, 1/2, 0,   1/2, 1],\n",
    "    [1/3, 1/2, 0,   0,   0],\n",
    "    [0,   0,   1/2, 0,   0]\n",
    "])\n",
    "\n",
    "vector = get_eigenvector(A)\n",
    "print_page_scores(vector)"
   ]
  },
  {
   "cell_type": "markdown",
   "metadata": {
    "pycharm": {
     "name": "#%% md\n"
    }
   },
   "source": [
    "It would appear that page 3's score has increased above that of page 1.\n",
    "If a page 5 is added, the following two items will happen:\n",
    "    1. The \"vote\" of page 3 will now split between page 1 and page 5, therefore reducing page 1's score\n",
    "    2. The \"vote\" of page 5 will boost the score of page 3."
   ]
  },
  {
   "cell_type": "markdown",
   "metadata": {
    "pycharm": {
     "name": "#%% md\n"
    }
   },
   "source": [
    "## Exercise 2"
   ]
  },
  {
   "cell_type": "code",
   "execution_count": 3,
   "metadata": {
    "pycharm": {
     "is_executing": false,
     "name": "#%%\n"
    }
   },
   "outputs": [
    {
     "name": "stdout",
     "output_type": "stream",
     "text": [
      "The eigen values are: [ 1. -1.  1. -1.  1. -1.  0.]\n",
      "There are 3 eigenvalues with value 1\n"
     ]
    }
   ],
   "source": [
    "A = np.array([\n",
    "    [0, 1, 0, 0, 0, 0, 0],\n",
    "    [1, 0, 0, 0, 0, 0, 0],\n",
    "    [0, 0, 0, 1, 0, 0, 0],\n",
    "    [0, 0, 1, 0, 0, 0, 0],\n",
    "    [0, 0, 0, 0, 0, 1, 1/2],\n",
    "    [0, 0, 0, 0, 1, 0, 1/2],\n",
    "    [0, 0, 0, 0, 0, 0, 0]\n",
    "])\n",
    "\n",
    "eigenvalues = get_eigenvalues(A)\n",
    "\n",
    "print(\"The eigen values are:\", eigenvalues)\n",
    "print(\"There are {} eigenvalues with value 1\".format(len(np.where(eigenvalues == 1)[0])))"
   ]
  },
  {
   "cell_type": "markdown",
   "metadata": {
    "pycharm": {
     "name": "#%% md\n"
    }
   },
   "source": [
    "The example web has 3 separate subwebs, similar to figure 2.2. \n",
    "As you can see, there are three eigenvalues equal to 1. This demonstrates \n",
    "that the dimension of $V_1(A)$ equals (or exceeds) the number of components in the web."
   ]
  },
  {
   "cell_type": "markdown",
   "metadata": {
    "pycharm": {
     "name": "#%% md\n"
    }
   },
   "source": [
    "## Exercise 3"
   ]
  },
  {
   "cell_type": "code",
   "execution_count": 4,
   "metadata": {
    "pycharm": {
     "is_executing": false,
     "name": "#%%\n"
    }
   },
   "outputs": [
    {
     "name": "stdout",
     "output_type": "stream",
     "text": [
      "The eigen values are: [ 1. -1.  1. -1.  0.]\n",
      "There are 2 eigenvalues with value 1\n"
     ]
    }
   ],
   "source": [
    "A = np.array([\n",
    "    [0, 1, 0, 0, 1/3],\n",
    "    [1, 0, 0, 0, 0],\n",
    "    [0, 0, 0, 1, 1/3],\n",
    "    [0, 0, 1, 0, 1/3],\n",
    "    [0, 0, 0, 0, 0],\n",
    "])\n",
    "\n",
    "eigenvalues = get_eigenvalues(A)\n",
    "\n",
    "print(\"The eigen values are:\", eigenvalues)\n",
    "print(\"There are {} eigenvalues with value 1\".format(len(np.where(eigenvalues == 1)[0])))"
   ]
  },
  {
   "cell_type": "markdown",
   "metadata": {
    "pycharm": {
     "name": "#%% md\n"
    }
   },
   "source": [
    "## Exercise 4"
   ]
  },
  {
   "cell_type": "code",
   "execution_count": 5,
   "metadata": {},
   "outputs": [
    {
     "name": "stdout",
     "output_type": "stream",
     "text": [
      "[ 0.        +0.j         -0.28067662+0.26395346j -0.28067662-0.26395346j\n",
      "  0.56135324+0.j        ]\n"
     ]
    }
   ],
   "source": [
    "A = np.array([\n",
    "    [0  , 0  , 0, 1/2],\n",
    "    [1/3, 0  , 0, 0  ],\n",
    "    [1/3, 1/2, 0, 1/2],\n",
    "    [1/3, 1/2, 0, 0  ]\n",
    "])\n",
    "\n",
    "eigenvalues, eigenvectors = np.linalg.eig(A)\n",
    "\n",
    "print(eigenvalues)"
   ]
  },
  {
   "cell_type": "markdown",
   "metadata": {},
   "source": [
    "Thus, the largest positive (Perron) enigenvalue is 0.56135324"
   ]
  },
  {
   "cell_type": "code",
   "execution_count": 6,
   "metadata": {},
   "outputs": [],
   "source": [
    "v = eigenvectors[:4, 3]\n",
    "v_scaled = np.abs(v) / np.linalg.norm(v, 1)"
   ]
  },
  {
   "cell_type": "markdown",
   "metadata": {},
   "source": [
    "The resulting ranking seems reasonable. Page 3, linked to by all other pages, is the most important. Page 4, linked to by page 1 and 2 scores the second, while page 1 and page 2 are only linked to by one page with 1/2 and 1/3 vote namely."
   ]
  },
  {
   "cell_type": "markdown",
   "metadata": {
    "pycharm": {
     "name": "#%% md\n"
    }
   },
   "source": [
    "## Exercise 5 \n",
    "Prove that in any web the importance score of a page with no backlinks is zero.\n",
    "\n",
    "Let $x_{i}$ denote the importance score of page i. If page i has no backlinks, then the $i_{th}$ row of the adjacency matrix A is a zero-vector. \n",
    "Thus for $$AX = \\lambda X$$ where $\\lambda_{i}=1$\n",
    "$$x_{i} = 0$$"
   ]
  },
  {
   "cell_type": "markdown",
   "metadata": {
    "pycharm": {
     "name": "#%% md\n"
    }
   },
   "source": [
    "## Exercise 6"
   ]
  },
  {
   "cell_type": "markdown",
   "metadata": {},
   "source": [
    "- 1.\n",
    "\n",
    "To transpose page i and page j,\n",
    "we need to transpose both the outgoing links from page i, j and backlinks to page i, j,\n",
    "\n",
    "Compared with the original link matrix A,\n",
    "the new link matrix $\\overline{A}$ swaps row i with row j, and swaps column i with column j.\n",
    "Thus, \\begin{align}P\\overline{A} = AP\\newline    \n",
    "(\\overline{A}P = PA)\\end{align}\n",
    "Also, $P^{2}$ = I\n",
    "Therefore, $P\\overline{A}P = A$\n",
    "\n",
    "\n",
    "- 2.\n",
    "\n",
    "Suppose X is the eigenvector of A, then $$AX = \\lambda X $$\n",
    "$$ PAX = \\lambda PX $$\n",
    "From 1, $$ \\overline{A}P = PA $$ \n",
    "Thus, $$ \\overline{A}PX = \\lambda PX$$\n",
    "Therefore, $y=PX$ is an eigenvector for $\\overline{A}$ with eigenvalue $\\lambda$\n",
    "\n",
    "\n",
    "- 3.\n",
    "\n",
    "Suppose $X_{i}$ is the eigenvector of A where $\\lambda_{i}=1$\n",
    "\n",
    "Thus, $$ AX_{i} = \\lambda_{i} X_{i}$$\n",
    "\n",
    "Since P is an identity matrix, then $$PX_{i} = X_{i}$$\n",
    "\n",
    "From 2, we have $$ \\overline{A}PX = \\lambda PX$$\n",
    "\n",
    "Thus, $$ \\overline{A}PX_{i} = \\lambda_{i} PX_{i}$$\n",
    "\n",
    "From (8) (10), $$ \\overline{A}X_{i} = \\lambda_{i}X_{i}$$\n",
    "\n",
    "Therefore, $X_{i}$ is also the eigenvector for $\\overline{A}$ with eigenvalue $\\lambda_{i}=1$, so the importance scores are left unchanged after the single permutation.\n",
    "\n",
    "For multiple permutations, we can draw the conclusion of the importance scores unchanged by iterating over the above steps."
   ]
  },
  {
   "cell_type": "markdown",
   "metadata": {
    "pycharm": {
     "name": "#%% md\n"
    }
   },
   "source": [
    "## Exercise 7 \n",
    "\n",
    "Since A is a $n \\times n$ column-stochastic matrix, \n",
    "\n",
    "Thus,\n",
    "$$\\forall i, a_{ij} \\in [0, 1]$$\n",
    "\n",
    "$$\\sum_{j\\in n} a_{ij} = 1$$\n",
    "\n",
    "For matrix S, \n",
    "$$\\forall i,j, s_{ij}= \\frac{1}{n}$$\n",
    "$$\\sum_{j\\in n} s_{ij} = 1$$\n",
    "\n",
    "Since $$m \\in [0,1], 1-m \\in [0,1]$$\n",
    "then $$ 0 \\leq (1-m)a_{ij} + ms_{ij} \\leq (1-m) + m = 1$$\n",
    "\n",
    "Also for any column j\n",
    "$$\\sum_{j} (1-m)A+mS \\\\\n",
    "= \\sum_{j} (1-m)a_{ij}+ms_{ij} \\\\\n",
    "= (1-m)\\sum_{j}a_{ij}+m\\sum_{j}s_{ij}\\\\\n",
    "=(1-m) + m = 1$$\n",
    "\n",
    "Therefore, $M=(1-m)A+mS$ is also a column-stochastic matrix"
   ]
  },
  {
   "cell_type": "markdown",
   "metadata": {
    "pycharm": {
     "name": "#%% md\n"
    }
   },
   "source": [
    "## Exercise 8"
   ]
  },
  {
   "cell_type": "markdown",
   "metadata": {},
   "source": [
    "Suppose A and B are both $n \\times n$ column-stochastic matrices, \n",
    "\n",
    "Thus,\n",
    "$$\\forall i, a_{ij} \\in [0, 1], \\sum_{j} a_{ij} = 1$$\n",
    "$$\\forall i, b_{ij} \\in [0, 1], \\sum_{j} b_{ij} = 1$$\n",
    "\n",
    "For $$M = A \\cdotp B$$\n",
    "\n",
    "$$m_{ij} = \\sum_{k = 1}^{n}a_{ik}b_{kj} = a_{i1}b_{1j}+a_{i2}b_{2j}+ ... + a_{in}b_{nj}$$\n",
    "\n",
    "Thus, for each column j:\n",
    "\n",
    "\\begin{align}\\sum_{i=1}^{n}m_{ij} \\\\\n",
    "= \\sum_{j = 1}^{n}\\sum_{k = 1}^{n}a_{ik}b_{kj} \\\\\n",
    "= (a_{11}b_{1j}+a_{12}b_{2j}+ ... + a_{1n}b_{nj}) + (a_{21}b_{1j}+a_{22}b_{2j}+ ... + a_{2n}b_{nj}) + ... + (a_{n1}b_{1j}+a_{n2}b_{2j}+ ... + a_{nn}b_{nj})\\\\\n",
    "= b_{1j}(a_{11}+a_{21}+...+a_{n1}) + b_{2j}(a_{12}+a_{22}+...+a_{n2})+ ... + b_{nj}(a_{1n}+a_{2n}+...+a_{nn}) \\\\\n",
    "= b_{1j} + b_{2j} + ... + b_{nj} = 1\\end{align}\n",
    "\n",
    "Therefore, $M=A \\cdotp B$ is also a column-stochastic matrix"
   ]
  },
  {
   "cell_type": "markdown",
   "metadata": {
    "pycharm": {
     "name": "#%% md\n"
    }
   },
   "source": [
    "## Exercise 9\n",
    "A page with no backlinks will have a score of $\\frac{m}{n}$ because the array S would give it an score of $\\frac{1}{n}$ (as the array must be column stochastic and equally weighted for all pages) and then by exercise 5, the page would have a score of 0 from the array A.\n",
    "\n",
    "Therefore, the score of a particular page would be the score given by\n",
    "    $$(1-m)A + mS = (1-m)*0 + m\\frac{1}{n} = \\frac{m}{n}$$\n",
    "\n",
    "Note how A resolves to 0 because the page has no backlinks."
   ]
  },
  {
   "cell_type": "markdown",
   "metadata": {
    "pycharm": {
     "name": "#%% md\n"
    }
   },
   "source": [
    "## Exercise 10 - INCOMPLETE\n",
    "\n",
    "- 1. Show that $(A^2)_{ij} > 0$ if and only if page i can be reached from page j in exactly two steps.\n",
    "\n",
    "\n",
    "Consider that A is a link matrix with non-negative values in position $A_{ij}$ if there exists a link between the two pages.\n",
    "\n",
    "Further, consider that when multiplying $A$ by itself ($A^2$), $A_{ij}$ will be non-negative if there exists a link from page i to page k and from page k to page j (where $0 \\leq k \\leq n$ and $k \\ne i$ and $k \\ne j$).\n",
    "\n",
    "We can prove this to be true by considering $A^2_{ij} = \\sum^{n}_{k=1}A_{ik}A_{kj}$. So if any $A_{ik}$ and $A_{kj}$ is nonzero, then the sum will similarly be non-zero.\n",
    "\n",
    "Note that if a link from page i to j is not possible in exactly two steps, then the value of that cell will be 0 as (per the formula described), the sum of all the links for $A_{ik}*A_{kj}$ for all $k \\in {0..n}$ will be 0.\n",
    "\n",
    "- 2. Show more generally that $(A^p)_{ij} > 0$ if and only if page i can be reached from page j in EXACTLY p steps.\n",
    "\n",
    "\n",
    "We can prove the statement above through induction. Consider the base case of a node being reached in exactly 2 steps as proven in part 1.\n",
    "\n",
    "Now, as per the inductive hypothesis, assume that $(A^k)_{ij} > 0$ if and only if the node is reachable in exactly k steps.\n",
    "\n",
    "For the inductive step, consider a node that is reachable in exactly k+1 steps. Consider the inductive assumption, there exists a node n that is reachable from node a in exactly k steps and this node has a link to a node b.\n",
    "The matrix $A^k$ would then have a non-zero value in $A_{ak}$ and by definition a non-zero value in $A_{kb}$. Therefore, if we multiply $A^k * A$ we get for the value of $A^k_{ab} = A_{ak} * A_{kb}$ which must be non-zero.\n",
    "\n",
    "- 3. Argue that $(I + A + A^2 + ... + A^p)_{ij} > 0$ if and only if page i can be reached from page j in p or fewer steps.\n",
    "\n",
    "Consider that if we sum A raised to the kth power from $k = \\{0..p\\}$. Each power of A represents if a node is reachable in that number of steps.\n",
    "\n",
    "By definition, if there exists a link, the value will be non-zero and if there exists no link the value will be zero.\n",
    "\n",
    "Therefore, the value of $(I + A + A^2 + ... + A^p)_{ij} = (I_{ij} + A_{ij} + A^2_{ij} + ... + A^p_{ij})$ which is non-zero if any value if non-zero.\n",
    "\n",
    "\n",
    "\n",
    "- 4. Explain why $I + A + A^2 + ... + A^{n-1}$ is a positive matrix if the web is strongly connected.\n",
    "\n",
    "In order for the matrix above to be a positive matrix, this would imply that **every** page can be reached by any other page in at most $n - 1$ steps.\n",
    "\n",
    "If a web is not strongly connected, then there would exist some zero values which would cause the matrix to not be a positive one.\n",
    "\n",
    "\n",
    "- 5. Use the last part (and Exercise 8) to show that $B = \\frac{1}{n}(I + A + A^2 + ... + A^{n-1})$ is positive and column-stochastic (and hence by Lemma 3.2 $dim(V_1(B)) = 1$).\n",
    "\n",
    "\n",
    "\n",
    "- 6. Show that if $x \\in V_1(A)$ then $x \\in V_1(B)$.\n",
    "\n"
   ]
  },
  {
   "cell_type": "markdown",
   "metadata": {
    "pycharm": {
     "name": "#%% md\n"
    }
   },
   "source": [
    "## Exercise 11 "
   ]
  },
  {
   "cell_type": "code",
   "execution_count": 7,
   "metadata": {
    "pycharm": {
     "is_executing": false
    }
   },
   "outputs": [
    {
     "name": "stdout",
     "output_type": "stream",
     "text": [
      "Page 1 has score 0.237\n",
      "Page 2 has score 0.097\n",
      "Page 3 has score 0.349\n",
      "Page 4 has score 0.138\n",
      "Page 5 has score 0.178\n"
     ]
    }
   ],
   "source": [
    "# Figure 2.1 with addition of page 5 that links to page 3 and page 3 also links to page 5.\n",
    "A = np.array([\n",
    "    [0,   0,   1/2, 1/2, 0],\n",
    "    [1/3, 0,   0,   0,   0],\n",
    "    [1/3, 1/2, 0,   1/2, 1],\n",
    "    [1/3, 1/2, 0,   0,   0],\n",
    "    [0,   0,   1/2, 0,   0]\n",
    "])\n",
    "\n",
    "# Calculate the new ranking by finding the eigenvector of M\n",
    "# Using an S, a matrix of 1/n in each cell\n",
    "# use m = 0.15\n",
    "M = create_M(A, m=0.15)\n",
    "\n",
    "vector = get_eigenvector(M)\n",
    "print_page_scores(vector)"
   ]
  },
  {
   "cell_type": "markdown",
   "metadata": {
    "pycharm": {
     "name": "#%% md\n"
    }
   },
   "source": [
    "## Exercise 12"
   ]
  },
  {
   "cell_type": "code",
   "execution_count": 8,
   "metadata": {
    "pycharm": {
     "is_executing": false,
     "name": "#%%\n"
    }
   },
   "outputs": [
    {
     "name": "stdout",
     "output_type": "stream",
     "text": [
      "The matrix M (weighted average of A and S) is:\n",
      "0.025\t0.025\t0.450\t0.450\t0.025\t0.195\t\n",
      "0.308\t0.025\t0.025\t0.025\t0.025\t0.195\t\n",
      "0.308\t0.450\t0.025\t0.450\t0.875\t0.195\t\n",
      "0.308\t0.450\t0.025\t0.025\t0.025\t0.195\t\n",
      "0.025\t0.025\t0.450\t0.025\t0.025\t0.195\t\n",
      "0.025\t0.025\t0.025\t0.025\t0.025\t0.025\t\n"
     ]
    }
   ],
   "source": [
    "A = np.array([\n",
    "    [0,   0,   1/2, 1/2, 0, 1/5],\n",
    "    [1/3, 0,   0,   0,   0, 1/5],\n",
    "    [1/3, 1/2, 0,   1/2, 1, 1/5],\n",
    "    [1/3, 1/2, 0,   0,   0, 1/5],\n",
    "    [0,   0,   1/2, 0,   0, 1/5],\n",
    "    [0,   0,   0,   0,   0, 0  ]\n",
    "])\n",
    "\n",
    "# Calculate the new ranking by finding the eigenvector of M\n",
    "# Using an S, a matrix of 1/n in each cell\n",
    "# use m = 0.15\n",
    "M = create_M(A, m=0.15)\n",
    "\n",
    "print(\"The matrix M (weighted average of A and S) is:\")\n",
    "print_matrix(M)"
   ]
  },
  {
   "cell_type": "code",
   "execution_count": 9,
   "metadata": {},
   "outputs": [
    {
     "name": "stdout",
     "output_type": "stream",
     "text": [
      "Page 1 has score 0.231\n",
      "Page 2 has score 0.095\n",
      "Page 3 has score 0.340\n",
      "Page 4 has score 0.135\n",
      "Page 5 has score 0.174\n",
      "Page 6 has score 0.025\n"
     ]
    }
   ],
   "source": [
    "vector = get_eigenvector(M)\n",
    "print_page_scores(vector)"
   ]
  },
  {
   "cell_type": "markdown",
   "metadata": {
    "pycharm": {
     "name": "#%% md\n"
    }
   },
   "source": [
    "## Exercise 13"
   ]
  },
  {
   "cell_type": "code",
   "execution_count": 14,
   "metadata": {},
   "outputs": [
    {
     "name": "stdout",
     "output_type": "stream",
     "text": [
      "The matrix M (weighted average of A and S) is:\n",
      "0.021\t0.871\t0.021\t0.021\t0.021\t0.021\t0.021\t\n",
      "0.871\t0.021\t0.021\t0.021\t0.021\t0.021\t0.021\t\n",
      "0.021\t0.021\t0.021\t0.871\t0.021\t0.021\t0.021\t\n",
      "0.021\t0.021\t0.871\t0.021\t0.021\t0.021\t0.021\t\n",
      "0.021\t0.021\t0.021\t0.021\t0.021\t0.871\t0.446\t\n",
      "0.021\t0.021\t0.021\t0.021\t0.871\t0.021\t0.446\t\n",
      "0.021\t0.021\t0.021\t0.021\t0.021\t0.021\t0.021\t\n"
     ]
    }
   ],
   "source": [
    "# example of 3 separate subwebs with seven pages\n",
    "A = np.array([\n",
    "    [0, 1, 0, 0, 0, 0, 0],\n",
    "    [1, 0, 0, 0, 0, 0, 0],\n",
    "    [0, 0, 0, 1, 0, 0, 0],\n",
    "    [0, 0, 1, 0, 0, 0, 0],\n",
    "    [0, 0, 0, 0, 0, 1, 1/2],\n",
    "    [0, 0, 0, 0, 1, 0, 1/2],\n",
    "    [0, 0, 0, 0, 0, 0, 0]\n",
    "])\n",
    "\n",
    "# Calculate the new ranking by finding the eigenvector of M\n",
    "# Using an S, a matrix of 1/n in each cell\n",
    "# use m = 0.15\n",
    "M = create_M(A, m=0.15)\n",
    "\n",
    "print(\"The matrix M (weighted average of A and S) is:\")\n",
    "print_matrix(M)"
   ]
  },
  {
   "cell_type": "code",
   "execution_count": 15,
   "metadata": {},
   "outputs": [
    {
     "name": "stdout",
     "output_type": "stream",
     "text": [
      "Page 1 has score 0.000\n",
      "Page 2 has score 0.000\n",
      "Page 3 has score 0.000\n",
      "Page 4 has score 0.000\n",
      "Page 5 has score 0.250\n",
      "Page 6 has score 0.250\n",
      "Page 7 has score 0.500\n"
     ]
    }
   ],
   "source": [
    "vector = get_eigenvector(M)\n",
    "print_page_scores(vector)"
   ]
  },
  {
   "cell_type": "markdown",
   "metadata": {
    "pycharm": {
     "name": "#%% md\n"
    }
   },
   "source": [
    "## Exercise 14 - INCOMPLETE\n",
    "\n",
    "$M = $\n",
    "\\begin{bmatrix} \n",
    "        0 & 1 & 0 & 0 & 0 \\\\\n",
    "        1 & 0 & 0 & 0 & 0 \\\\\n",
    "        0 & 0 & 0 & 1 & 1/2 \\\\\n",
    "        0 & 0 & 1 & 0 & 1/2 \\\\\n",
    "        0 & 0 & 0 & 0 & 0\n",
    "\\end{bmatrix}\n",
    "\n",
    "Initial guess\n",
    "x0 =  [0.24, 0.31, 0.08, 0.18, 0.19]T\n",
    "\n",
    "//TODO\n",
    "Calculate q such that \n",
    "q = limit k -> infinity, M^k*x0\n",
    "\n",
    "\n",
    "$q = $\n",
    "\\begin{bmatrix} \n",
    "        t1 & t2 & t3 & t4 & t5 \n",
    "\\end{bmatrix}\n",
    "\n",
    "Find q such that:\n",
    "Mq = q\n",
    "\n",
    "0*t1 + 1*t2 + 0*t3 + 0*t4 + 0*t5 = t1\n",
    "\n",
    "1*t1 + 0*t2 + 0*t3 + 0*t4 + 0*t5 = t2\n",
    "\n",
    "0*t1 + 0*t2 + 0*t3 + 1*t4 + 1/2*t5 = t3\n",
    "\n",
    "0*t1 + 0*t2 + 1*t3 + 0*t4 + 1/2*t5 = t4\n",
    "\n",
    "0*t1 + 0*t2 + 0*t3 + 0*t4 + 0*t5 = t5\n",
    "\n",
    "simplifying above:\n",
    "\n",
    "t2 = t1\n",
    "\n",
    "\n",
    "t1 = t2\n",
    "\n",
    "\n",
    "t4 + t5/2 = t3\n",
    "\n",
    "\n",
    "t3 + t5/2 = t4\n",
    "\n",
    "\n",
    "0 = t5\n",
    "\n",
    "2t1 + 2t3 = 1\n",
    "\n",
    "2(t1+t3) = 1\n",
    "\n",
    "t1+t3 = 0.5 \n",
    "\n",
    "let t1 = 1/6 \n",
    "\n",
    "let t3 = 2/6\n",
    "\n",
    "q = [1/6, 1/6, 2/6, 2/6 0]\n"
   ]
  },
  {
   "cell_type": "markdown",
   "metadata": {},
   "source": [
    "First, we can represent the $M^k \\cdot x_0$ with the following Python function:"
   ]
  },
  {
   "cell_type": "code",
   "execution_count": 12,
   "metadata": {},
   "outputs": [],
   "source": [
    "def calc_q(M, x0, k):\n",
    "    # this calculates (M^k)*x0\n",
    "    m_to_power_k = np.linalg.matrix_power(M, k)\n",
    "    return np.matmul(m_to_power_k, x0)"
   ]
  },
  {
   "cell_type": "code",
   "execution_count": 13,
   "metadata": {},
   "outputs": [
    {
     "name": "stdout",
     "output_type": "stream",
     "text": [
      "Printing M:\n",
      "0.030\t0.030\t0.455\t0.455\t0.030\t\n",
      "0.313\t0.030\t0.030\t0.030\t0.030\t\n",
      "0.313\t0.455\t0.030\t0.455\t0.880\t\n",
      "0.313\t0.455\t0.030\t0.030\t0.030\t\n",
      "0.030\t0.030\t0.455\t0.030\t0.030\t\n",
      "\n",
      "Printing x0 (initial guess):\n",
      "0.200\t\n",
      "0.200\t\n",
      "0.200\t\n",
      "0.200\t\n",
      "0.200\t\n",
      "k\t|x_k - q\t|Rate of Convergence (c)\n",
      "================================================\n",
      "1\t|0.22189\t|0.59636\n",
      "5\t|0.03408\t|0.57193\n",
      "10\t|0.00280\t|0.61436\n",
      "50\t|0.00000\t|0.60027\n",
      "\n",
      "\n",
      "LAMBDA2 = 0.2858814857434407\n",
      "C =  0.94\n",
      "7.466651688175443e-14\n"
     ]
    }
   ],
   "source": [
    "# Represents the web in Exercise 11\n",
    "A = np.array([\n",
    "    [0,   0,   1/2, 1/2, 0],\n",
    "    [1/3, 0,   0,   0,   0],\n",
    "    [1/3, 1/2, 0,   1/2, 1],\n",
    "    [1/3, 1/2, 0,   0,   0],\n",
    "    [0,   0,   1/2, 0,   0]\n",
    "])\n",
    "\n",
    "# Our initial guess for q, an evenly distributed set of values\n",
    "x0 = np.array([\n",
    "    [.20],\n",
    "    [.20],\n",
    "    [.20],\n",
    "    [.20],\n",
    "    [.20]\n",
    "])\n",
    "\n",
    "# Create our M array, using m=0.15\n",
    "M = create_M(A, m=0.15)\n",
    "\n",
    "# The resulting matrix\n",
    "print(\"Printing M:\")\n",
    "print_matrix(M)\n",
    "\n",
    "# Printing our initial guess\n",
    "print(\"\\nPrinting x0 (initial guess):\")\n",
    "print_matrix(x0)\n",
    "\n",
    "def diff_q_iter_and_q_actual(M, k, x0):\n",
    "    # first column of table under 4.2\n",
    "    # This is the iterative calculation of q\n",
    "    q_iter = calc_q(M, x0, k)\n",
    "    q_actual = calc_q(M, x0, 1000000)\n",
    "    \n",
    "    # Frobenius norm (1st)\n",
    "    return np.linalg.norm(q_iter-q_actual, 1)\n",
    "\n",
    "def calc_convergence(M, k, x0):\n",
    "    # second column of table under 4.2\n",
    "    # This is the rate of convergence for a particular k\n",
    "    x_k = diff_q_iter_and_q_actual(M, k, x0)\n",
    "    x_k_minus_1 = diff_q_iter_and_q_actual(M, k - 1, x0)\n",
    "    \n",
    "    return x_k / x_k_minus_1\n",
    "\n",
    "# Print a representation of the table under 4.2 for this exercise\n",
    "print(\"k\\t|x_k - q\\t|Rate of Convergence (c)\")\n",
    "print(\"================================================\")\n",
    "for i in [1,5,10,50]:\n",
    "    col1 = diff_q_iter_and_q_actual(M, i, x0)\n",
    "    col2 = calc_convergence(M, i, x0)\n",
    "    print(\"{}\\t|{:.5f}\\t|{:.5f}\".format(i, col1, col2))\n",
    "\n",
    "def get_second_highest_eigenval(M):\n",
    "    vals = sorted(get_eigenvalues(M))\n",
    "    return vals[-2].real\n",
    "\n",
    "lam2 = get_second_highest_eigenval(M)\n",
    "\n",
    "A_ = np.array([\n",
    "    [1, 2, 3],\n",
    "    [4, 5, 6],\n",
    "    [7, 8, 9],\n",
    "])\n",
    "\n",
    "def calc_c(M):\n",
    "    # i is row, j is col\n",
    "    col = 1\n",
    "    n = M.shape[1]\n",
    "    return max(abs(1-2*min(M[col][row] for row in range(n))) for j in range(n))\n",
    "\n",
    "c =  (calc_c(M)) \n",
    "\n",
    "print (\"\\n\\nLAMBDA2 =\", lam2)\n",
    "print (\"C = \", c)\n",
    "print (lam2*(diff_q_iter_and_q_actual(M, 500000, x0)))"
   ]
  },
  {
   "cell_type": "markdown",
   "metadata": {
    "pycharm": {
     "name": "#%% md\n"
    }
   },
   "source": [
    "## Exercise 15 - INCOMPLETE"
   ]
  },
  {
   "cell_type": "markdown",
   "metadata": {
    "pycharm": {
     "name": "#%% md\n"
    }
   },
   "source": [
    "## Exercise 16 \n",
    "\n",
    "\\begin{equation}\n",
    "    A = \n",
    "    \\begin{bmatrix} \n",
    "            0 & 1/2 & 1/2 \\\\\n",
    "            0 & 0 & 1/2 \\\\\n",
    "            1 & 1/2 & 0\n",
    "    \\end{bmatrix}\n",
    "\\end{equation}\n",
    "\n",
    "\\begin{equation}\n",
    "    \\lambda𝑖 = \n",
    "    \\begin{bmatrix} \n",
    "            1 & -1/2 & -1/2\n",
    "    \\end{bmatrix}\n",
    "\\end{equation}\n",
    "\n",
    "Multiplicity of -1/2 = 2\n",
    "\n",
    "Since for -1/2 the dimension of the eigenspace is not equal to the multiplicity of the eigenvalue, A is NOT diagonizable.\n",
    "    "
   ]
  },
  {
   "cell_type": "markdown",
   "metadata": {},
   "source": [
    "$A = $\n",
    "\\begin{bmatrix} \n",
    "        0 & 1/2 & 1/2 \\\\\n",
    "        0 & 0 & 1/2 \\\\\n",
    "        1 & 1/2 & 0\n",
    "\\end{bmatrix}\n",
    "\n",
    "$M=(1−m)A+mS = $\n",
    "\n",
    "\\begin{bmatrix} \n",
    "        m/3 & 1/2-m/6 & 1/2-m/6 \\\\\n",
    "        m/3 & m/3 & 1/2-m/6 \\\\\n",
    "        1-2m/3 & 1/2-m/6 & m/3\n",
    "\\end{bmatrix}\n",
    "\n",
    "\n",
    "The eigenvalue, 𝜆, of $M$ can be calculated by: \n",
    "\n",
    "\\begin{equation}\n",
    "|M - 𝜆I| = 0, 𝜆_{1} = 𝜆_{2} = 1/2(m-1), 𝜆_{3} = 1\n",
    "\\end{equation}\n",
    "\n",
    "where $𝜆= \\frac{1}{2}(m-1)$ has the algebraic multiplicity is 2\n",
    "\n",
    "The geometric multiplicity is given by the nullity of R = M - 𝜆I = \n",
    "\\begin{bmatrix} \n",
    "        1/2-m/6 & 1/2-m/6 & 1/2-m/6 \\\\\n",
    "        m/3 & 1/2-m/6 & 1/2-m/6 \\\\\n",
    "        1-2m/3 & 1/2-m/6 & 1/2-m/6\n",
    "\\end{bmatrix}\n",
    "\n",
    "The row echelon matrix, Rref is \n",
    "\n",
    "\\begin{bmatrix} \n",
    "        m/3 & 1/2-m/6 & 1/2-m/6 \\\\\n",
    "        1/2-m/2 & 0 & 0 \\\\\n",
    "        0 & 0 & 0\n",
    "\\end{bmatrix}\n",
    "\n",
    "whose nullity is 1.\n",
    "\n",
    "Thus, the dimension of the eigenspace corresponding to 𝜆=1/2(m-1) is 1, smaller than the algebraic multiplicity. This shows matrix M is not diagonalizable."
   ]
  },
  {
   "cell_type": "markdown",
   "metadata": {
    "pycharm": {
     "name": "#%% md\n"
    }
   },
   "source": [
    "## Exercise 17\n",
    "The value of m correlates to an egalitarian ranking of all the web pages and can range from 0 to 1 where 0 is the original formula while 1 is the pure egalitarian approach (where all web pages will have the same score).\n",
    "\n",
    "First, choosing a small value for α is not appropriate, because too much weight would be given to the “uniform” part of A(α). The iterative algorithms that approximate PageRank converge quickly if α = 0.85. If α becomes larger, it require more iterations to converge. Moreover, numeric instability arises when α is too close to 1."
   ]
  }
 ],
 "metadata": {
  "kernelspec": {
   "display_name": "Python 3",
   "language": "python",
   "name": "python3"
  },
  "language_info": {
   "codemirror_mode": {
    "name": "ipython",
    "version": 3
   },
   "file_extension": ".py",
   "mimetype": "text/x-python",
   "name": "python",
   "nbconvert_exporter": "python",
   "pygments_lexer": "ipython3",
   "version": "3.6.2"
  },
  "latex_envs": {
   "LaTeX_envs_menu_present": true,
   "autoclose": true,
   "autocomplete": true,
   "bibliofile": "biblio.bib",
   "cite_by": "apalike",
   "current_citInitial": 1,
   "eqLabelWithNumbers": true,
   "eqNumInitial": 1,
   "hotkeys": {
    "equation": "Ctrl-E",
    "itemize": "Ctrl-I"
   },
   "labels_anchors": false,
   "latex_user_defs": false,
   "report_style_numbering": true,
   "user_envs_cfg": true
  },
  "pycharm": {
   "stem_cell": {
    "cell_type": "raw",
    "metadata": {
     "collapsed": false
    },
    "source": []
   }
  },
  "toc": {
   "base_numbering": 1,
   "nav_menu": {},
   "number_sections": true,
   "sideBar": true,
   "skip_h1_title": false,
   "title_cell": "Table of Contents",
   "title_sidebar": "Contents",
   "toc_cell": false,
   "toc_position": {},
   "toc_section_display": true,
   "toc_window_display": false
  }
 },
 "nbformat": 4,
 "nbformat_minor": 1
}
