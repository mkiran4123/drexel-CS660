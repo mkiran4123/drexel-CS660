{
 "cells": [
  {
   "cell_type": "code",
   "execution_count": 59,
   "outputs": [],
   "source": [
    "import numpy as np"
   ],
   "metadata": {
    "collapsed": false,
    "pycharm": {
     "name": "#%%\n",
     "is_executing": false
    }
   }
  },
  {
   "cell_type": "markdown",
   "metadata": {
    "collapsed": true,
    "pycharm": {
     "name": "#%% md\n"
    }
   },
   "source": [
    "# Exercises"
   ]
  },
  {
   "cell_type": "code",
   "execution_count": 60,
   "outputs": [],
   "source": [
    "# https://glowingpython.blogspot.com/2011/05/four-ways-to-compute-google-pagerank.html\n",
    "def get_eigenvector(A):\n",
    "    n = A.shape[1]\n",
    "    _, v = np.linalg.eig(A)\n",
    "    \n",
    "    return np.abs(np.real(v[:n, 0]) / np.linalg.norm(v[:n, 0], 1))"
   ],
   "metadata": {
    "collapsed": false,
    "pycharm": {
     "name": "#%%\n",
     "is_executing": false
    }
   }
  },
  {
   "cell_type": "markdown",
   "source": [
    "## Exercise 1"
   ],
   "metadata": {
    "collapsed": false,
    "pycharm": {
     "name": "#%% md\n"
    }
   }
  },
  {
   "cell_type": "code",
   "source": [
    "A = np.array([\n",
    "    [0,   0,   1,   1/2, 0],\n",
    "    [1/3, 0,   0,   0,   0],\n",
    "    [1/3, 1/2, 0,   1/2, 1],\n",
    "    [1/3, 1/2, 0,   0,   0],\n",
    "    [0,   0,   1/2, 0,   0]\n",
    "])\n",
    "\n",
    "vector = get_eigenvector(A)\n",
    "print(vector)"
   ],
   "metadata": {
    "collapsed": false,
    "pycharm": {
     "name": "#%%\n",
     "is_executing": false
    }
   },
   "execution_count": 61,
   "outputs": [
    {
     "name": "stdout",
     "text": [
      "[0.32671498 0.09430017 0.30975165 0.13512715 0.13410604]\n"
     ],
     "output_type": "stream"
    }
   ]
  },
  {
   "cell_type": "markdown",
   "source": [
    "It would appear that page 3's score has increased, but not above that of page 1."
   ],
   "metadata": {
    "collapsed": false,
    "pycharm": {
     "name": "#%% md\n"
    }
   }
  }
 ],
 "metadata": {
  "language_info": {
   "codemirror_mode": {
    "name": "ipython",
    "version": 2
   },
   "file_extension": ".py",
   "mimetype": "text/x-python",
   "name": "python",
   "nbconvert_exporter": "python",
   "pygments_lexer": "ipython2",
   "version": "2.7.6"
  },
  "kernelspec": {
   "name": "python3",
   "language": "python",
   "display_name": "Python 3"
  },
  "pycharm": {
   "stem_cell": {
    "cell_type": "raw",
    "source": [],
    "metadata": {
     "collapsed": false
    }
   }
  }
 },
 "nbformat": 4,
 "nbformat_minor": 0
}