{
 "cells": [
  {
   "cell_type": "code",
   "execution_count": 1,
   "metadata": {
    "pycharm": {
     "is_executing": false,
     "name": "#%%\n"
    }
   },
   "outputs": [],
   "source": [
    "import numpy as np\n",
    "\n",
    "# https://glowingpython.blogspot.com/2011/05/four-ways-to-compute-google-pagerank.html\n",
    "def get_eigenvector(A):\n",
    "    n = A.shape[1]\n",
    "    _, v = np.linalg.eig(A)\n",
    "    \n",
    "    return np.abs(np.real(v[:n, 0]) / np.linalg.norm(v[:n, 0], 1))\n",
    "\n",
    "def print_page_scores(vector):\n",
    "    i = 1\n",
    "    for page in vector:\n",
    "        print(\"Page {} has score {:.3f}\".format(i, page))\n",
    "        i+= 1\n",
    "        \n",
    "def print_matrix(matrix):\n",
    "    for row in matrix:\n",
    "        for value in row:\n",
    "            print(\"{:.2f}\".format(value), end=\"\\t\")\n",
    "        print(\"\")"
   ]
  },
  {
   "cell_type": "markdown",
   "metadata": {
    "collapsed": true,
    "pycharm": {
     "name": "#%% md\n"
    }
   },
   "source": [
    "# Exercises\n",
    "\n",
    "## Exercise 1"
   ]
  },
  {
   "cell_type": "code",
   "execution_count": 2,
   "metadata": {
    "pycharm": {
     "is_executing": false,
     "name": "#%%\n"
    }
   },
   "outputs": [
    {
     "name": "stdout",
     "output_type": "stream",
     "text": [
      "Page 1 has score 0.245\n",
      "Page 2 has score 0.082\n",
      "Page 3 has score 0.367\n",
      "Page 4 has score 0.122\n",
      "Page 5 has score 0.184\n"
     ]
    }
   ],
   "source": [
    "A = np.array([\n",
    "    [0,   0,   1/2, 1/2, 0],\n",
    "    [1/3, 0,   0,   0,   0],\n",
    "    [1/3, 1/2, 0,   1/2, 1],\n",
    "    [1/3, 1/2, 0,   0,   0],\n",
    "    [0,   0,   1/2, 0,   0]\n",
    "])\n",
    "\n",
    "vector = get_eigenvector(A)\n",
    "print_page_scores(vector)"
   ]
  },
  {
   "cell_type": "markdown",
   "metadata": {
    "pycharm": {
     "name": "#%% md\n"
    }
   },
   "source": [
    "It would appear that page 3's score has increased above that of page 1.\n",
    "If a page 5 is added, the following two items will happen:\n",
    "    1. The \"vote\" of page 3 will now split between page 1 and page 5, therefore reducing page 1's score\n",
    "    2. The \"vote\" of page 5 will boost the score of page 3."
   ]
  },
  {
   "cell_type": "markdown",
   "metadata": {
    "pycharm": {
     "name": "#%% md\n"
    }
   },
   "source": [
    "## Exercise 2"
   ]
  },
  {
   "cell_type": "code",
   "execution_count": 3,
   "metadata": {
    "pycharm": {
     "is_executing": false,
     "name": "#%%\n"
    }
   },
   "outputs": [
    {
     "name": "stdout",
     "output_type": "stream",
     "text": [
      "[ 1. -1.  1. -1.  1. -1.  0.] 3\n"
     ]
    }
   ],
   "source": [
    "A = np.array([\n",
    "    [0, 1, 0, 0, 0, 0, 0],\n",
    "    [1, 0, 0, 0, 0, 0, 0],\n",
    "    [0, 0, 0, 1, 0, 0, 0],\n",
    "    [0, 0, 1, 0, 0, 0, 0],\n",
    "    [0, 0, 0, 0, 0, 1, 1/2],\n",
    "    [0, 0, 0, 0, 1, 0, 1/2],\n",
    "    [0, 0, 0, 0, 0, 0, 0]\n",
    "])\n",
    "\n",
    "eigenvalues, _ = np.linalg.eig(A)\n",
    "\n",
    "print(eigenvalues, len(np.where(eigenvalues == 1)[0]))"
   ]
  },
  {
   "cell_type": "markdown",
   "metadata": {
    "pycharm": {
     "name": "#%% md\n"
    }
   },
   "source": [
    "The example web has 3 separate subwebs, similar to figure 2.2. \n",
    "As you can see, there are three eigenvalues equal to 1. This demonstrates \n",
    "that the dimension of V_1(A) equals (or exceeds) the number of components in the web."
   ]
  },
  {
   "cell_type": "markdown",
   "metadata": {
    "pycharm": {
     "name": "#%% md\n"
    }
   },
   "source": [
    "## Exercise 3"
   ]
  },
  {
   "cell_type": "code",
   "execution_count": 4,
   "metadata": {
    "pycharm": {
     "is_executing": false,
     "name": "#%%\n"
    }
   },
   "outputs": [
    {
     "name": "stdout",
     "output_type": "stream",
     "text": [
      "[ 1. -1.  1. -1.  0.] 2\n"
     ]
    }
   ],
   "source": [
    "A = np.array([\n",
    "    [0, 1, 0, 0, 1/3],\n",
    "    [1, 0, 0, 0, 0],\n",
    "    [0, 0, 0, 1, 1/3],\n",
    "    [0, 0, 1, 0, 1/3],\n",
    "    [0, 0, 0, 0, 0],\n",
    "])\n",
    "\n",
    "eigenvalues, _ = np.linalg.eig(A)\n",
    "\n",
    "print(eigenvalues, len(np.where(eigenvalues == 1)[0]))"
   ]
  },
  {
   "cell_type": "markdown",
   "metadata": {
    "pycharm": {
     "name": "#%% md\n"
    }
   },
   "source": [
    "## Exercise 4"
   ]
  },
  {
   "cell_type": "code",
   "execution_count": 18,
   "metadata": {},
   "outputs": [
    {
     "name": "stdout",
     "output_type": "stream",
     "text": [
      "[ 0.        +0.j         -0.28067662+0.26395346j -0.28067662-0.26395346j\n",
      "  0.56135324+0.j        ]\n"
     ]
    }
   ],
   "source": [
    "A = np.array([\n",
    "    [0, 0, 0, 1/2],\n",
    "    [1/3, 0, 0, 0],\n",
    "    [1/3, 1/2, 0, 1/2],\n",
    "    [1/3, 1/2, 0, 0]\n",
    "])\n",
    "\n",
    "eigenvalues, eigenvectors = np.linalg.eig(A)\n",
    "\n",
    "print(eigenvalues)"
   ]
  },
  {
   "cell_type": "markdown",
   "metadata": {},
   "source": [
    "Thus, the largest positive (Perron) enigenvalue is 0.56135324"
   ]
  },
  {
   "cell_type": "code",
   "execution_count": 33,
   "metadata": {},
   "outputs": [
    {
     "data": {
      "text/plain": [
       "array([0.20664504, 0.12270648, 0.43864676, 0.23200172])"
      ]
     },
     "execution_count": 33,
     "metadata": {},
     "output_type": "execute_result"
    }
   ],
   "source": [
    "v = eigenvectors[:4, 3]\n",
    "v_scaled = np.abs(v) / np.linalg.norm(v, 1)"
   ]
  },
  {
   "cell_type": "markdown",
   "metadata": {},
   "source": [
    "The resulting ranking seems resonable. Page 3, linked to by all other pages, is the most important. Page 4, linked to by page 1 and 2 scores the second, while page 1 and page2 are only linked to by one page with 1/2 and 1/3 vote namely."
   ]
  },
  {
   "cell_type": "markdown",
   "metadata": {
    "pycharm": {
     "name": "#%% md\n"
    }
   },
   "source": [
    "## Exercise 5 \n",
    "Prove that in any web the importance score of a page with no backlinks is zero.\n",
    "\n",
    "Let $x_{i}$ denote the importance score of page i. If page i has no backlinks, then the $i_{th}$ row of the adjacency matrix A is a zero-vector. \n",
    "Thus for $$AX = \\lambda X$$ where $\\lambda_{i}=1$\n",
    "$$x_{i} = 0$$"
   ]
  },
  {
   "cell_type": "markdown",
   "metadata": {
    "pycharm": {
     "name": "#%% md\n"
    }
   },
   "source": [
    "## Exercise 6"
   ]
  },
  {
   "cell_type": "markdown",
   "metadata": {},
   "source": [
    "- 1.\n",
    "\n",
    "To transpose page i and page j,\n",
    "we need to transpose both the outgoing links from page i, j and backlinks to page i, j,\n",
    "\n",
    "Compared with the original link matrix A,\n",
    "the new link matrix $\\overline{A}$ swaps row i with row j, and swaps column i with column j.\n",
    "Thus, \\begin{align}P\\overline{A} = AP\\newline    \n",
    "(\\overline{A}P = PA)\\end{align}\n",
    "Also, $P^{2}$ = I\n",
    "Therefore, $P\\overline{A}P = A$\n",
    "\n",
    "\n",
    "- 2.\n",
    "\n",
    "Suppose X is the eigenvector of A, then $$AX = \\lambda X $$\n",
    "$$ PAX = \\lambda PX $$\n",
    "From 1, $$ \\overline{A}P = PA $$ \n",
    "Thus, $$ \\overline{A}PX = \\lambda PX$$\n",
    "Therefore, $y=PX$ is an eigenvector for $\\overline{A}$ with eigenvalue $\\lambda$\n",
    "\n",
    "\n",
    "- 3.\n",
    "\n",
    "Suppose $X_{i}$ is the eigenvector of A where $\\lambda_{i}=1$\n",
    "\n",
    "Thus, $$ AX_{i} = \\lambda_{i} X_{i}$$\n",
    "\n",
    "Since P is an identity matrix, then $$PX_{i} = X_{i}$$\n",
    "\n",
    "From 2, we have $$ \\overline{A}PX = \\lambda PX$$\n",
    "\n",
    "Thus, $$ \\overline{A}PX_{i} = \\lambda_{i} PX_{i}$$\n",
    "\n",
    "From (8) (10), $$ \\overline{A}X_{i} = \\lambda_{i}X_{i}$$\n",
    "\n",
    "Therefore, $X_{i}$ is also the eigenvector for $\\overline{A}$ with eigenvalue $\\lambda_{i}=1$, so the importance scores are left unchanged after the single permutation.\n",
    "\n",
    "For multiple permutations, we can draw the conclusion of the importance scores unchanged by iterating over the above steps."
   ]
  },
  {
   "cell_type": "markdown",
   "metadata": {
    "pycharm": {
     "name": "#%% md\n"
    }
   },
   "source": [
    "## Exercise 7 \n",
    "\n",
    "Since A is a $n \\times n$ column-stochastic matrix, \n",
    "\n",
    "Thus,\n",
    "$$\\forall i, a_{ij} \\in [0, 1]$$\n",
    "\n",
    "$$\\sum_{j\\in n} a_{ij} = 1$$\n",
    "\n",
    "For matrix S, \n",
    "$$\\forall i,j, s_{ij}= \\frac{1}{n}$$\n",
    "$$\\sum_{j\\in n} s_{ij} = 1$$\n",
    "\n",
    "Since $$m \\in [0,1], 1-m \\in [0,1]$$\n",
    "then $$ 0 \\leq (1-m)a_{ij} + ms_{ij} \\leq (1-m) + m = 1$$\n",
    "\n",
    "Also for any column j\n",
    "$$\\sum_{j} (1-m)A+mS \\\\\n",
    "= \\sum_{j} (1-m)a_{ij}+ms_{ij} \\\\\n",
    "= (1-m)\\sum_{j}a_{ij}+m\\sum_{j}s_{ij}\\\\\n",
    "=(1-m) + m = 1$$\n",
    "\n",
    "Therefore, $M=(1-m)A+mS$ is also a column-stochastic matrix"
   ]
  },
  {
   "cell_type": "markdown",
   "metadata": {
    "pycharm": {
     "name": "#%% md\n"
    }
   },
   "source": [
    "## Exercise 8"
   ]
  },
  {
   "cell_type": "markdown",
   "metadata": {},
   "source": [
    "Suppose A and B are both $n \\times n$ column-stochastic matrices, \n",
    "\n",
    "Thus,\n",
    "$$\\forall i, a_{ij} \\in [0, 1], \\sum_{j} a_{ij} = 1$$\n",
    "$$\\forall i, b_{ij} \\in [0, 1], \\sum_{j} b_{ij} = 1$$\n",
    "\n",
    "For $$M = A \\cdotp B$$\n",
    "\n",
    "$$m_{ij} = \\sum_{k = 1}^{n}a_{ik}b_{kj} = a_{i1}b_{1j}+a_{i2}b_{2j}+ ... + a_{in}b_{nj}$$\n",
    "\n",
    "Thus, for each column j:\n",
    "\n",
    "\\begin{align}\\sum_{i=1}^{n}m_{ij} \\\\\n",
    "= \\sum_{j = 1}^{n}\\sum_{k = 1}^{n}a_{ik}b_{kj} \\\\\n",
    "= (a_{11}b_{1j}+a_{12}b_{2j}+ ... + a_{1n}b_{nj}) + (a_{21}b_{1j}+a_{22}b_{2j}+ ... + a_{2n}b_{nj}) + ... + (a_{n1}b_{1j}+a_{n2}b_{2j}+ ... + a_{nn}b_{nj})\\\\\n",
    "= b_{1j}(a_{11}+a_{21}+...+a_{n1}) + b_{2j}(a_{12}+a_{22}+...+a_{n2})+ ... + b_{nj}(a_{1n}+a_{2n}+...+a_{nn}) \\\\\n",
    "= b_{1j} + b_{2j} + ... + b_{nj} = 1\\end{align}\n",
    "\n",
    "Therefore, $M=A \\cdotp B$ is also a column-stochastic matrix"
   ]
  },
  {
   "cell_type": "markdown",
   "metadata": {
    "pycharm": {
     "name": "#%% md\n"
    }
   },
   "source": [
    "## Exercise 9\n",
    "A page with no backlinks will have a score of $\\frac{m}{n}$ because the array S would give it an score of $\\frac{1}{n}$ (as the array must be column stochastic and equally weighted for all pages) and then by exercise 5, the page would have a score of 0 from the array A.\n",
    "\n",
    "Therefore, the score of a particular page would be the score given by\n",
    "    $$(1-m)A + mS = (1-m)*0 + m\\frac{1}{n} = \\frac{m}{n}$$\n",
    "\n",
    "Note how A resolves to 0 because the page has no backlinks."
   ]
  },
  {
   "cell_type": "markdown",
   "metadata": {
    "pycharm": {
     "name": "#%% md\n"
    }
   },
   "source": [
    "## Exercise 10\n",
    "\n",
    "Consider that A is a link matrix with non-negative values in position i,j if there exists a link between the two pages.\n",
    "\n",
    "Further, consider that when multiplying A by itself (A^2), the position i,j will be non-negative if there exists a link from i,k and from k,j (where 0 <= k <= n and k !== i and k != j). This is due to the way that matrix multipication is defined [EXPAND FORMULA?]\n",
    "\n",
    "We can expand this even further by saying that for any two nodes, we can determine if it will reach in p steps by expanding the previous statement.\n",
    "Consider the following linear graph, A, which contains nodes 0 through n, which has links from node i to node i+1 for i in 0 through n-1.\n",
    "Now, by induction, assume that we can get from node 0 to k in k steps by raising A to the kth power.\n",
    "Now, we prove that we can reach from node 0 to k+1 in k+1 steps by using the previous statement and apply one additional multiplication of A^k to A.\n",
    "[NEED TO PROVE, A[i][j] is 0 IFF a->c is not reachable in k steps]\n",
    "\n",
    "\n",
    "\n",
    "...\n",
    "\n",
    "...\n",
    "\n",
    "..."
   ]
  },
  {
   "cell_type": "markdown",
   "metadata": {
    "pycharm": {
     "name": "#%% md\n"
    }
   },
   "source": [
    "## Exercise 11 "
   ]
  },
  {
   "cell_type": "code",
   "execution_count": 45,
   "metadata": {
    "pycharm": {
     "is_executing": false
    }
   },
   "outputs": [
    {
     "name": "stdout",
     "output_type": "stream",
     "text": [
      "Page 1 has score 0.237\n",
      "Page 2 has score 0.097\n",
      "Page 3 has score 0.349\n",
      "Page 4 has score 0.138\n",
      "Page 5 has score 0.178\n"
     ]
    }
   ],
   "source": [
    "# Figure 2.1 with addition of page 5 that links to page 3 and page 3 also links to page 5.\n",
    "A = np.array([\n",
    "    [0,   0,   1/2, 1/2, 0],\n",
    "    [1/3, 0,   0,   0,   0],\n",
    "    [1/3, 1/2, 0,   1/2, 1],\n",
    "    [1/3, 1/2, 0,   0,   0],\n",
    "    [0,   0,   1/2, 0,   0]\n",
    "])\n",
    "\n",
    "# Let S denote an n x n matrix with all entries 1/n\n",
    "S = np.ones((5,5)) / 5\n",
    "\n",
    "# Calculate the new ranking by finding the eigenvector of M\n",
    "# use m = 0.15\n",
    "m = 0.15\n",
    "M = (1-m)*A + m * S\n",
    "\n",
    "vector = get_eigenvector(M)\n",
    "print_page_scores(vector)"
   ]
  },
  {
   "cell_type": "markdown",
   "metadata": {
    "pycharm": {
     "name": "#%% md\n"
    }
   },
   "source": [
    "## Exercise 12"
   ]
  },
  {
   "cell_type": "code",
   "execution_count": 6,
   "metadata": {
    "pycharm": {
     "is_executing": false,
     "name": "#%%\n"
    }
   },
   "outputs": [
    {
     "name": "stdout",
     "output_type": "stream",
     "text": [
      "The matrix M (weighted average of A and S) is:\n",
      "0.02\t0.02\t0.45\t0.45\t0.02\t0.20\t\n",
      "0.31\t0.02\t0.02\t0.02\t0.02\t0.20\t\n",
      "0.31\t0.45\t0.02\t0.45\t0.88\t0.20\t\n",
      "0.31\t0.45\t0.02\t0.02\t0.02\t0.20\t\n",
      "0.02\t0.02\t0.45\t0.02\t0.02\t0.20\t\n",
      "0.02\t0.02\t0.02\t0.02\t0.02\t0.02\t\n"
     ]
    }
   ],
   "source": [
    "A = np.array([\n",
    "    [0,   0,   1/2, 1/2, 0, 1/5],\n",
    "    [1/3, 0,   0,   0,   0, 1/5],\n",
    "    [1/3, 1/2, 0,   1/2, 1, 1/5],\n",
    "    [1/3, 1/2, 0,   0,   0, 1/5],\n",
    "    [0,   0,   1/2, 0,   0, 1/5],\n",
    "    [0,   0,   0,   0,   0, 0  ]\n",
    "])\n",
    "\n",
    "# Let S denote an n x n matrix with all entries 1/n\n",
    "S = np.ones((6,6)) / 6\n",
    "\n",
    "# Calculate the new ranking by finding the eigenvector of M\n",
    "# use m = 0.15\n",
    "m = 0.15\n",
    "M = (1-m)*A + m * S\n",
    "\n",
    "print(\"The matrix M (weighted average of A and S) is:\")\n",
    "print_matrix(M)"
   ]
  },
  {
   "cell_type": "code",
   "execution_count": 78,
   "metadata": {},
   "outputs": [
    {
     "name": "stdout",
     "output_type": "stream",
     "text": [
      "Page 1 has score 0.231\n",
      "Page 2 has score 0.095\n",
      "Page 3 has score 0.340\n",
      "Page 4 has score 0.135\n",
      "Page 5 has score 0.174\n",
      "Page 6 has score 0.025\n"
     ]
    }
   ],
   "source": [
    "vector = get_eigenvector(M)\n",
    "print_page_scores(vector)"
   ]
  },
  {
   "cell_type": "markdown",
   "metadata": {
    "pycharm": {
     "name": "#%% md\n"
    }
   },
   "source": [
    "## Exercise 13"
   ]
  },
  {
   "cell_type": "code",
   "execution_count": 7,
   "metadata": {},
   "outputs": [
    {
     "name": "stdout",
     "output_type": "stream",
     "text": [
      "The matrix M (weighted average of A and S) is:\n",
      "0.02\t0.87\t0.02\t0.02\t0.02\t0.02\t0.02\t\n",
      "0.87\t0.02\t0.02\t0.02\t0.02\t0.02\t0.02\t\n",
      "0.02\t0.02\t0.02\t0.87\t0.02\t0.02\t0.02\t\n",
      "0.02\t0.02\t0.87\t0.02\t0.02\t0.02\t0.02\t\n",
      "0.02\t0.02\t0.02\t0.02\t0.02\t0.87\t0.45\t\n",
      "0.02\t0.02\t0.02\t0.02\t0.87\t0.02\t0.45\t\n",
      "0.02\t0.02\t0.02\t0.02\t0.02\t0.02\t0.02\t\n"
     ]
    }
   ],
   "source": [
    "# example of 3 separate subwebs with seven pages\n",
    "A = np.array([\n",
    "    [0, 1, 0, 0, 0, 0, 0],\n",
    "    [1, 0, 0, 0, 0, 0, 0],\n",
    "    [0, 0, 0, 1, 0, 0, 0],\n",
    "    [0, 0, 1, 0, 0, 0, 0],\n",
    "    [0, 0, 0, 0, 0, 1, 1/2],\n",
    "    [0, 0, 0, 0, 1, 0, 1/2],\n",
    "    [0, 0, 0, 0, 0, 0, 0]\n",
    "])\n",
    "\n",
    "# Let S denote an n x n matrix with all entries 1/n\n",
    "S = np.ones((7,7)) / 7\n",
    "\n",
    "# Calculate the new ranking by finding the eigenvector of M\n",
    "# use m = 0.15\n",
    "m = 0.15\n",
    "M = (1-m)*A + m * S\n",
    "\n",
    "print(\"The matrix M (weighted average of A and S) is:\")\n",
    "print_matrix(M)"
   ]
  },
  {
   "cell_type": "code",
   "execution_count": 8,
   "metadata": {},
   "outputs": [
    {
     "name": "stdout",
     "output_type": "stream",
     "text": [
      "Page 1 has score 0.000\n",
      "Page 2 has score 0.000\n",
      "Page 3 has score 0.000\n",
      "Page 4 has score 0.000\n",
      "Page 5 has score 0.250\n",
      "Page 6 has score 0.250\n",
      "Page 7 has score 0.500\n"
     ]
    }
   ],
   "source": [
    "vector = get_eigenvector(M)\n",
    "print_page_scores(vector)"
   ]
  },
  {
   "cell_type": "markdown",
   "metadata": {
    "pycharm": {
     "name": "#%% md\n"
    }
   },
   "source": [
    "## Exercise 14"
   ]
  },
  {
   "cell_type": "markdown",
   "metadata": {
    "pycharm": {
     "name": "#%% md\n"
    }
   },
   "source": [
    "## Exercise 15"
   ]
  },
  {
   "cell_type": "markdown",
   "metadata": {
    "pycharm": {
     "name": "#%% md\n"
    }
   },
   "source": [
    "## Exercise 16 \n",
    "\n",
    "A = [[0,  1/2,  1/2],\n",
    "     [0,  0,    1/2],\n",
    "     [1,  1/2,  0  ]]\n",
    "\n",
    "𝜆𝑖 = {1, -1/2, -1/2}\n",
    "\n",
    "Multiplicity of -1/2 = 2\n",
    "\n",
    "Since for -1/2 the dimension of the eigenspace is not equal to the multiplicity of the eigenvalue, A is NOT diagonizable.\n",
    "    "
   ]
  },
  {
   "cell_type": "markdown",
   "metadata": {},
   "source": [
    "$A = $\n",
    "\\begin{bmatrix} \n",
    "        0 & 1/2 & 1/2 \\\\\n",
    "        0 & 0 & 1/2 \\\\\n",
    "        1 & 1/2 & 0\n",
    "\\end{bmatrix}\n",
    "\n",
    "M=(1−m)A+mS = \n",
    "\n",
    "\\begin{bmatrix} \n",
    "        m/3 & 1/2-m/6 & 1/2-m/6 \\\\\n",
    "        m/3 & m/3 & 1/2-m/6 \\\\\n",
    "        1-2m/3 & 1/2-m/6 & m/3\n",
    "\\end{bmatrix}\n",
    "\n",
    "\n",
    "The eigenvalue 𝜆 of M can be calculated by: \n",
    "\n",
    "$|M - 𝜆I| = 0, 𝜆_{1} = 𝜆_{2} = 1/2(m-1), 𝜆_{3} = 1$\n",
    "\n",
    "where 𝜆 = 1/2(m-1) has the algebraic multiplicity is 2\n",
    "\n",
    "The geometric multiplicity is given by the nullity of R = M - 𝜆I = \n",
    "\\begin{bmatrix} \n",
    "        1/2-m/6 & 1/2-m/6 & 1/2-m/6 \\\\\n",
    "        m/3 & 1/2-m/6 & 1/2-m/6 \\\\\n",
    "        1-2m/3 & 1/2-m/6 & 1/2-m/6\n",
    "\\end{bmatrix}\n",
    "\n",
    "The row echelon matrix, Rref is \n",
    "\n",
    "\\begin{bmatrix} \n",
    "        m/3 & 1/2-m/6 & 1/2-m/6 \\\\\n",
    "        1/2-m/2 & 0 & 0 \\\\\n",
    "        0 & 0 & 0\n",
    "\\end{bmatrix}\n",
    "\n",
    "whose nullity is 1.\n",
    "\n",
    "Thus, the dimension of the eigenspace corresponding to 𝜆=1/2(m-1) is 1, smaller than the algebraic multiplicity. This shows matrix M is not diagonalizable."
   ]
  },
  {
   "cell_type": "markdown",
   "metadata": {
    "pycharm": {
     "name": "#%% md\n"
    }
   },
   "source": [
    "## Exercise 17 - INCOMPLETE\n",
    "The value of m correlates to an egalitarian ranking of all the web pages and can range from 0 to 1 where 0 is the original formula while 1 is the pure egalitarian approach (where all web pages will have the same score).\n",
    "\n",
    "INCOMPLETE: (How does this affect computation time)"
   ]
  }
 ],
 "metadata": {
  "kernelspec": {
   "display_name": "Python 3",
   "language": "python",
   "name": "python3"
  },
  "language_info": {
   "codemirror_mode": {
    "name": "ipython",
    "version": 3
   },
   "file_extension": ".py",
   "mimetype": "text/x-python",
   "name": "python",
   "nbconvert_exporter": "python",
   "pygments_lexer": "ipython3",
   "version": "3.6.2"
  },
  "latex_envs": {
   "LaTeX_envs_menu_present": true,
   "autoclose": true,
   "autocomplete": true,
   "bibliofile": "biblio.bib",
   "cite_by": "apalike",
   "current_citInitial": 1,
   "eqLabelWithNumbers": true,
   "eqNumInitial": 1,
   "hotkeys": {
    "equation": "Ctrl-E",
    "itemize": "Ctrl-I"
   },
   "labels_anchors": false,
   "latex_user_defs": false,
   "report_style_numbering": true,
   "user_envs_cfg": true
  },
  "pycharm": {
   "stem_cell": {
    "cell_type": "raw",
    "metadata": {
     "collapsed": false
    },
    "source": []
   }
  },
  "toc": {
   "base_numbering": 1,
   "nav_menu": {},
   "number_sections": true,
   "sideBar": true,
   "skip_h1_title": false,
   "title_cell": "Table of Contents",
   "title_sidebar": "Contents",
   "toc_cell": false,
   "toc_position": {},
   "toc_section_display": true,
   "toc_window_display": false
  }
 },
 "nbformat": 4,
 "nbformat_minor": 1
}
