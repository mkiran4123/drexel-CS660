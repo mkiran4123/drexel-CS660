{
 "cells": [
  {
   "cell_type": "markdown",
   "metadata": {
    "collapsed": true,
    "pycharm": {
     "name": "#%% md\n"
    }
   },
   "source": [
    "# CS660 Lab 6 (Spam Detector)"
   ]
  },
  {
   "cell_type": "markdown",
   "source": [
    "## 1"
   ],
   "metadata": {
    "collapsed": false
   }
  },
  {
   "cell_type": "markdown",
   "source": [
    "## 2\n",
    "\n",
    "### Notes\n",
    "$P(S) = \\frac{25}{100} = \\frac{1}{4}$\n",
    "\n",
    "$P(H) = \\frac{75}{100} = \\frac{3}{4}$\n",
    "\n",
    "$P(B | S) = \\frac{20}{25} = \\frac{4}{5}, P(B | H) = \\frac{5}{75} = \\frac{1}{15}$\n",
    "\n",
    "$P(C | S) = \\frac{15}{25} = \\frac{3}{5}, P(C | H) = \\frac{10}{75} = \\frac{2}{15}$\n",
    "\n",
    "$P(W | S) = \\frac{5}{35} = \\frac{1}{7}, P(W | H) = \\frac{30}{65} = \\frac{6}{13}$\n",
    "\n",
    "### Calculations\n",
    "$$ P(S | B, C) = \\frac{P(B, C | S)P(S)}{P(B, C | S)P(S) + P(B, C | H)P(H)} = $$\n",
    "$$ \\frac{\\frac{4}{5}\\frac{3}{5}\\frac{1}{4}}{\\frac{4}{5}\\frac{3}{5}\\frac{1}{4} + \\frac{1}{15}\\frac{2}{15}\\frac{3}{4}} = $$\n",
    "$$ \\frac{\\frac{3}{25}}{\\frac{19}{150}} =  \\frac{18}{19} \\approx \\mathbf{0.947} $$\n",
    "\n",
    "$$ P(S | B) = \\frac{P(B | S)P(S)}{P(B | S)P(S) + P(B | H)P(H)} = $$\n",
    "$$ \\frac{\\frac{4}{5}\\frac{1}{4}}{\\frac{4}{5}\\frac{1}{4} + \\frac{1}{15}\\frac{3}{4}} = $$\n",
    "$$ \\frac{\\frac{1}{5}}{\\frac{1}{4}} = \\frac{4}{5} =  \\mathbf{0.8} $$\n",
    "\n",
    "$$ P(S | B, C, W) = \\frac{P(B, C, W | S)P(S)}{P(B, C, W | S)P(S) + P(B, C, W | H)P(H)} = $$\n",
    "$$ \\frac{\\frac{4}{5}\\frac{3}{5}\\frac{1}{7}\\frac{1}{4}}{\\frac{4}{5}\\frac{3}{5}\\frac{1}{7}\\frac{1}{4} + \\frac{1}{15}\\frac{2}{15}\\frac{6}{13}\\frac{3}{4}} = $$\n",
    "$$ \\frac{\\frac{3}{175}}{\\frac{46}{2275}} = \\frac{39}{46} \\approx \\mathbf{0.847} $$\n",
    "\n",
    "### Comparison"
   ],
   "metadata": {
    "collapsed": false
   }
  },
  {
   "cell_type": "markdown",
   "source": [
    "## 3"
   ],
   "metadata": {
    "collapsed": false
   }
  },
  {
   "cell_type": "markdown",
   "source": [
    "## 4\n"
   ],
   "metadata": {
    "collapsed": false
   }
  }
 ],
 "metadata": {
  "language_info": {
   "codemirror_mode": {
    "name": "ipython",
    "version": 2
   },
   "file_extension": ".py",
   "mimetype": "text/x-python",
   "name": "python",
   "nbconvert_exporter": "python",
   "pygments_lexer": "ipython2",
   "version": "2.7.6"
  },
  "kernelspec": {
   "name": "python3",
   "language": "python",
   "display_name": "Python 3"
  },
  "pycharm": {
   "stem_cell": {
    "cell_type": "raw",
    "source": [],
    "metadata": {
     "collapsed": false
    }
   }
  }
 },
 "nbformat": 4,
 "nbformat_minor": 0
}