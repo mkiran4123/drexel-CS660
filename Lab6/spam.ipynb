{
 "cells": [
  {
   "cell_type": "markdown",
   "metadata": {
    "collapsed": true,
    "pycharm": {
     "name": "#%% md\n"
    }
   },
   "source": [
    "# CS660 Lab 6 (Spam Detector)"
   ]
  },
  {
   "cell_type": "markdown",
   "source": [
    "## 1\n",
    "<https://en.wikipedia.org/wiki/Naive_Bayes_spam_filtering>\n",
    "\n",
    "IDK???"
   ],
   "metadata": {
    "collapsed": false
   }
  },
  {
   "cell_type": "markdown",
   "source": [
    "## 2\n",
    "\n",
    "### Notes\n",
    "$P(S) = \\frac{25}{100} = \\frac{1}{4}$\n",
    "\n",
    "$P(H) = \\frac{75}{100} = \\frac{3}{4}$\n",
    "\n",
    "$P(B | S) = \\frac{4}{5}, P(B | H) = \\frac{1}{15}$\n",
    "\n",
    "$P(C | S) = \\frac{3}{5}, P(C | H) = \\frac{2}{15}$\n",
    "\n",
    "$P(W | S) = \\frac{1}{5}, P(W | H) = \\frac{6}{15}$\n",
    "\n",
    "### Calculations\n",
    "$ P(S | B, C) = \\frac{P(B, C | S)P(S)}{P(B, C | S)P(S) + P(B, C | H)P(H)} = $\n",
    "$ \\frac{\\frac{4}{5}\\frac{3}{5}\\frac{1}{4}}{\\frac{4}{5}\\frac{3}{5}\\frac{1}{4} + \\frac{1}{15}\\frac{2}{15}\\frac{3}{4}} = $\n",
    "$ \\frac{\\frac{3}{25}}{\\frac{19}{150}} =  \\frac{18}{19} \\approx \\mathbf{0.947} $\n",
    "\n",
    "$ P(S | B) = \\frac{P(B | S)P(S)}{P(B | S)P(S) + P(B | H)P(H)} = $\n",
    "$ \\frac{\\frac{4}{5}\\frac{1}{4}}{\\frac{4}{5}\\frac{1}{4} + \\frac{1}{15}\\frac{3}{4}} = $\n",
    "$ \\frac{\\frac{1}{5}}{\\frac{1}{4}} = \\frac{4}{5} =  \\mathbf{0.8} $\n",
    "\n",
    "$ P(S | B, C, W) = \\frac{P(B, C, W | S)P(S)}{P(B, C, W | S)P(S) + P(B, C, W | H)P(H)} = $\n",
    "$ \\frac{\\frac{4}{5}\\frac{3}{5}\\frac{1}{5}\\frac{1}{4}}{\\frac{4}{5}\\frac{3}{5}\\frac{1}{5}\\frac{1}{4} + \\frac{1}{15}\\frac{2}{15}\\frac{6}{15}\\frac{3}{4}} = $\n",
    "$ \\frac{\\frac{3}{125}}{\\frac{2}{75}} = \\frac{9}{10} = \\mathbf{0.9} $\n",
    "\n",
    "### Comparison\n",
    "The addition of the word \"CHEAP\" to the email *increases* the probability of being spam. Both words have a high probability \n",
    "of being present in a spam email, so it is intuitive that the two of them together results in an increase in spam probability.\n",
    "\n",
    "Conversely, adding the word \"WORK\" *decreases* the probability. The simple explanation is that because \"WORK\" appears \n",
    "in a higher number of *non-spam* emails, its presence *decreases* the probability of the email being spam."
   ],
   "metadata": {
    "collapsed": false
   }
  },
  {
   "cell_type": "markdown",
   "source": [
    "## 3\n",
    "\n"
   ],
   "metadata": {
    "collapsed": false
   }
  },
  {
   "cell_type": "markdown",
   "source": [
    "## 4\n"
   ],
   "metadata": {
    "collapsed": false
   }
  }
 ],
 "metadata": {
  "language_info": {
   "codemirror_mode": {
    "name": "ipython",
    "version": 2
   },
   "file_extension": ".py",
   "mimetype": "text/x-python",
   "name": "python",
   "nbconvert_exporter": "python",
   "pygments_lexer": "ipython2",
   "version": "2.7.6"
  },
  "kernelspec": {
   "name": "python3",
   "language": "python",
   "display_name": "Python 3"
  },
  "pycharm": {
   "stem_cell": {
    "cell_type": "raw",
    "source": [],
    "metadata": {
     "collapsed": false
    }
   }
  }
 },
 "nbformat": 4,
 "nbformat_minor": 0
}